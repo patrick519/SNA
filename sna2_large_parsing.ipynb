{
 "cells": [
  {
   "cell_type": "code",
   "execution_count": 1,
   "metadata": {
    "scrolled": true
   },
   "outputs": [
    {
     "name": "stdout",
     "output_type": "stream",
     "text": [
      "Starting print\n",
      "Done\n"
     ]
    }
   ],
   "source": [
    "# Patrick 't Jong\n",
    "# Designed to run with Python 2\n",
    "\n",
    "import re\n",
    "import csv\n",
    "tweets = dict()\n",
    "\n",
    "# Open the file with read only permit\n",
    "f = open('twitter-larger.tsv')\n",
    "# use readline() to read the first line \n",
    "line = f.readline()\n",
    "# use the read line to read further, till the file is empty\n",
    "while line:\n",
    "    line = line.lower()\n",
    "    # line[timestamp][username][tweet]\n",
    "    line = line.split(\"\\t\")\n",
    "    # check if anyone is mentioned, no interest otherwise\n",
    "    if \"@\" in line[2]:\n",
    "        # get mentioned users, delete tweet en strip @\n",
    "        line[2] = re.findall('[@]\\w+', line[2])\n",
    "        line[2] = [s.replace('@', '') for s in line[2]]\n",
    "        # delete empty strings, too large usernames. Escape if no mentions left\n",
    "        line[2] = filter(None, line[2])\n",
    "        line[2] = [i for i in line[2] if len(i) <= 15]\n",
    "        if line[2]:\n",
    "            # save data in the dictonary\n",
    "            if line[1] in tweets:\n",
    "                for userm in line[2]:\n",
    "                    if userm in tweets[line[1]][\"mentioned\"]:\n",
    "                        tweets[line[1]][\"mentioned\"][userm][\"count\"] = tweets[line[1]][\"mentioned\"][userm][\"count\"] + 1\n",
    "                    else:\n",
    "                        tweets[line[1]][\"mentioned\"][userm] = dict()\n",
    "                        tweets[line[1]][\"mentioned\"][userm][\"count\"] = 1\n",
    "                        tweets[line[1]][\"mentioned\"][userm][\"timestamp\"] = line[0]\n",
    "            else:\n",
    "                tweets[line[1]] = dict()\n",
    "                tweets[line[1]][\"mentioned\"] = dict()\n",
    "                for userm in line[2]:\n",
    "                    tweets[line[1]][\"mentioned\"][userm] = dict()\n",
    "                    tweets[line[1]][\"mentioned\"][userm][\"count\"] = 1\n",
    "                    tweets[line[1]][\"mentioned\"][userm][\"timestamp\"] = line[0]\n",
    "    line = f.readline()\n",
    "f.close()\n",
    "\n",
    "print(\"Starting print\")\n",
    "#write the tweets dict to output csv\n",
    "with open('mentiongraph-larger.csv', 'wb') as csvfile:\n",
    "    fieldnames = ['source','target','count', 'timestamp']\n",
    "    writer = csv.DictWriter(csvfile, fieldnames=fieldnames)\n",
    "    writer.writeheader()\n",
    "    for user in tweets:\n",
    "        for mentioned in tweets[user][\"mentioned\"]:\n",
    "            writer.writerow(dict(dict(tweets[user][\"mentioned\"][mentioned], target=mentioned),source=user))\n",
    "print(\"Done\")"
   ]
  }
 ],
 "metadata": {
  "kernelspec": {
   "display_name": "Python 2",
   "language": "python",
   "name": "python2"
  },
  "language_info": {
   "codemirror_mode": {
    "name": "ipython",
    "version": 2
   },
   "file_extension": ".py",
   "mimetype": "text/x-python",
   "name": "python",
   "nbconvert_exporter": "python",
   "pygments_lexer": "ipython2",
   "version": "2.7.15"
  }
 },
 "nbformat": 4,
 "nbformat_minor": 2
}
