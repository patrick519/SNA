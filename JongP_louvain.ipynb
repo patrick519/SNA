{
 "cells": [
  {
   "cell_type": "code",
   "execution_count": 1,
   "metadata": {},
   "outputs": [],
   "source": [
    "import igraph as ig \n",
    "import louvain"
   ]
  },
  {
   "cell_type": "code",
   "execution_count": 2,
   "metadata": {},
   "outputs": [
    {
     "data": {
      "text/plain": [
       "'2.2'"
      ]
     },
     "execution_count": 2,
     "metadata": {},
     "output_type": "execute_result"
    }
   ],
   "source": [
    "import collections\n",
    "import networkx as nx\n",
    "nx.__version__"
   ]
  },
  {
   "cell_type": "markdown",
   "metadata": {},
   "source": [
    "## Airport DataSet"
   ]
  },
  {
   "cell_type": "code",
   "execution_count": 50,
   "metadata": {},
   "outputs": [],
   "source": [
    "G = ig.Graph.Read_Ncol('UKAirportIntNodes.txt', directed=True, names=True)"
   ]
  },
  {
   "cell_type": "code",
   "execution_count": 56,
   "metadata": {},
   "outputs": [],
   "source": [
    "communities = louvain.find_partition(G, louvain.ModularityVertexPartition)"
   ]
  },
  {
   "cell_type": "code",
   "execution_count": 52,
   "metadata": {},
   "outputs": [
    {
     "name": "stdout",
     "output_type": "stream",
     "text": [
      "Clustering with 46 elements and 5 clusters\n",
      "[0] 1, 2, 4, 5, 6, 11, 17, 24, 26, 32, 33, 34, 35, 37, 43\n",
      "[1] 3, 7, 9, 10, 13, 19, 28, 29, 30, 36, 39\n",
      "[2] 12, 14, 15, 16, 20, 38, 42, 44, 45, 46\n",
      "[3] 18, 21, 22, 23, 25, 27\n",
      "[4] 8, 31, 40, 41\n"
     ]
    }
   ],
   "source": [
    "print communities"
   ]
  },
  {
   "cell_type": "code",
   "execution_count": 53,
   "metadata": {
    "scrolled": false
   },
   "outputs": [
    {
     "name": "stdout",
     "output_type": "stream",
     "text": [
      "Name: \n",
      "Type: DiGraph\n",
      "Number of nodes: 46\n",
      "Number of edges: 238\n",
      "Average in degree:   5.1739\n",
      "Average out degree:   5.1739\n"
     ]
    }
   ],
   "source": [
    "fh = open(\"UKAirportIntNodes.txt\", 'rb')\n",
    "G_nx = nx.read_weighted_edgelist(\"UKAirportIntNodes.txt\", create_using=nx.DiGraph(), nodetype=int)\n",
    "print(nx.info(G_nx))"
   ]
  },
  {
   "cell_type": "code",
   "execution_count": 57,
   "metadata": {},
   "outputs": [],
   "source": [
    "import numpy as np\n",
    "import pandas as pd\n",
    "#Inputs are cummunities & G (iGraph) & G_nx (NetworkX)\n",
    "\n",
    "# Embeddedness score algorithm for directed networks\n",
    "df = pd.DataFrame(columns=['embeddedness'])\n",
    "distribution = np.array([])\n",
    "for cluster in range(len(communities)):\n",
    "    #translate to original names\n",
    "    communityNames = np.array([])\n",
    "    for node in communities[cluster]:\n",
    "        communityNames = np.append(communityNames, int(G.vs[node]['name']))\n",
    "    for node in communityNames:\n",
    "        kInt = 0\n",
    "        for neighbor in G_nx.successors(node):\n",
    "            if float(neighbor) in communityNames:\n",
    "                kInt += 1\n",
    "        outdeg = G_nx.out_degree(node)\n",
    "        if outdeg != 0:\n",
    "            embeddedness = float(\"{0:.2f}\".format(float(kInt)/outdeg)) # 2f\n",
    "            distribution = np.append(distribution, embeddedness)\n",
    "            df = df.append({'embeddedness' : embeddedness} , ignore_index=True)"
   ]
  },
  {
   "cell_type": "code",
   "execution_count": 58,
   "metadata": {},
   "outputs": [
    {
     "name": "stdout",
     "output_type": "stream",
     "text": [
      "0.5559459459459459\n"
     ]
    }
   ],
   "source": [
    "#print(distribution)\n",
    "print np.average(distribution)"
   ]
  },
  {
   "cell_type": "code",
   "execution_count": 48,
   "metadata": {
    "scrolled": true
   },
   "outputs": [
    {
     "name": "stdout",
     "output_type": "stream",
     "text": [
      "[0.46 0.47 0.58 0.45 0.69 0.53 0.75 0.47 0.5  0.42 0.73 0.39 0.71 0.57\n",
      " 0.62 0.64 0.73 0.82 0.5  0.54 0.49 0.71 0.69 0.59 0.57 0.68 0.58 0.72\n",
      " 0.67 0.63 0.77 0.69 0.84 0.62 0.68 0.73 0.72 0.78 0.42 0.67 0.52 0.56\n",
      " 0.55 0.55 0.73 0.5  0.74 0.76 0.46 0.59 0.74 0.49 0.75 0.78 0.5  0.73\n",
      " 0.73 0.73 0.6  0.55 0.61 0.41 0.74 0.48 0.56 0.68 0.68 0.62 0.65 0.45\n",
      " 0.73 0.61 0.53 0.55 0.42 0.63 0.88 0.75 0.56 0.51 0.49 0.55 0.42 0.78\n",
      " 0.67 0.73 0.67 0.46 0.57 0.55 0.61 0.63 0.77 0.68 0.68 0.55 0.51 0.76\n",
      " 0.61 0.67 0.64 0.53 0.81 0.63 0.54 0.54 0.59 0.73 0.83 0.78 0.48 0.74\n",
      " 0.77 0.88 0.8  0.79 0.58 0.75 0.69 0.6  0.71 0.74 0.56 0.76 0.78 0.83\n",
      " 0.88 0.73 0.88 0.81 0.9  0.65 0.77 0.82 0.85 0.9  0.84 0.72 0.73 0.82\n",
      " 0.85 0.76 0.88 0.8  0.88 0.86 0.76 0.64 0.91 0.81 0.82 0.68 0.78 0.82\n",
      " 0.89 0.84 0.86 0.6  0.78 0.66 0.72 0.83 0.82 0.82 0.87 0.76 0.88 0.92\n",
      " 0.81 0.66 0.84 0.93 0.73 0.75 0.81 0.89 0.66 0.85 0.75 0.78 0.8  0.87\n",
      " 0.57 0.8  0.7  0.83 0.78 0.84 0.64 0.83 0.75 0.87 0.89 0.73 0.74 0.83\n",
      " 0.92 0.94 0.53 0.5  0.54 0.45 0.77 0.58 0.85 0.44 0.53 0.56 0.58 0.78\n",
      " 0.59 0.44 0.53 0.47 0.53 0.57 0.71 0.76 0.45 0.71 0.55 0.61 0.57 0.86\n",
      " 0.67 0.52 0.58 0.87 0.84 0.79 0.58 0.69 0.72 0.68 0.77 0.59 0.87 0.65\n",
      " 0.89 0.68 0.81 0.81 0.88 0.76 0.7  0.61 0.87 0.81 0.81 0.88 0.69 0.65\n",
      " 0.75 0.68 0.85 0.93 0.6  0.91 0.8  0.72 0.84 0.85 0.84 0.93 0.69 0.57\n",
      " 0.85 0.87 0.93 0.86 0.79 0.71 0.87 0.89 0.92 0.86 0.91 0.92 0.78 0.7\n",
      " 0.87 0.88 0.85 0.79 0.59 0.63 0.42 0.44 0.39 0.47 0.4  0.49 0.44 0.48\n",
      " 0.65 0.71 0.58 0.69 0.59 0.6  0.44 0.56 0.59 0.63 0.51 0.45 0.64 0.46\n",
      " 0.44 0.48 0.45 0.53 0.55 0.59 0.45 0.41 0.46 0.58 0.54 0.45 0.64 0.53\n",
      " 0.62 0.43 0.58 0.54 0.68 0.58 0.54 0.59 0.5  0.48 0.38 0.56 0.38 0.64\n",
      " 0.57 0.4  0.43 0.51 0.49 0.5  0.41 0.51 0.48 0.54 0.57 0.54 0.59 0.73\n",
      " 0.5  0.6  0.51 0.62 0.62 0.64 0.58 0.61 0.64 0.45 0.64 0.4  0.49 0.48\n",
      " 0.47 0.55 0.77 0.75 0.99 0.81 0.86 0.72 0.86 0.86 0.89 0.79 0.76 0.88\n",
      " 0.73 0.8  0.63 0.68 0.58 0.64 0.84 0.46 0.55 0.71 0.62 0.52 0.71 0.71\n",
      " 0.76 0.44 0.8  0.75 0.53 0.55 0.71 0.42 0.31 0.4  0.44 0.49 0.74 0.64\n",
      " 0.66 0.56 0.71 0.57 0.61 0.57 0.68 0.7  0.65 0.74 0.44 0.62 0.45 0.79\n",
      " 0.67 0.7  0.49 0.73 0.5  0.68 0.74 0.5  0.69 0.45 0.71 0.7  0.47 0.85\n",
      " 0.84 0.81 0.75 0.84 0.78 0.79 0.79 0.79 0.73 0.88 0.8  0.76 0.79 0.84\n",
      " 0.87 0.88 0.83 0.71 0.6  0.77 0.93 0.98 0.89 0.77 0.81 0.43 0.95 0.83\n",
      " 0.78 0.9  0.79 0.93 0.88 0.43 0.84 0.96 0.84 0.86 0.51 0.72 0.71 0.41\n",
      " 0.85 0.78 0.48 0.53 0.51 0.77 0.81 0.87 0.83 0.72 0.89 0.87 0.71 0.57\n",
      " 0.49 0.92 0.7  0.86 0.82 0.79 0.94 0.88 0.92 0.74 0.89 0.41 0.67 0.95\n",
      " 0.79 0.87 0.81 0.87 0.91 0.88 0.89 0.79 0.8  0.92 0.96 0.94 0.97 0.93\n",
      " 0.91 0.89 0.83 0.88 0.95 0.96 0.89 0.97 0.95 0.89 0.95 0.95 0.94 0.9\n",
      " 0.96 0.97 0.88 0.93 0.93 0.91 0.92 1.   0.95 0.91 0.96 0.98 0.98 0.98\n",
      " 0.96 0.21 0.31 0.27 0.35 0.23 0.21 0.3  0.3  0.26 0.32 0.35 0.38 0.25\n",
      " 0.23 0.23 0.23 0.24 0.23 0.2  0.2  0.22 0.34 0.22 0.19 0.23 0.33 0.21\n",
      " 0.23 0.26 0.19 0.24 0.29 0.3  0.3  0.45 0.38 0.41 0.42 0.3  0.28 0.22\n",
      " 0.35 0.25 0.23 0.3  0.35 0.36 0.26 0.28 0.36 0.52 0.49 0.27 0.4  0.33\n",
      " 0.31 0.31 0.39 0.25 0.29 0.4  0.29 0.46 0.44 0.3  0.24 0.49 0.46 0.23\n",
      " 0.34 0.25 0.29 0.29 0.25 0.35 0.33 0.46 0.45 0.32 0.36 0.33 0.31 0.35\n",
      " 0.42 0.47 0.33 0.33 0.44 0.32 0.43 0.41 0.42 0.43 0.42 0.46 0.44 0.43\n",
      " 0.41 0.42 0.34 0.41 0.37 0.45 0.45 0.43 0.5  0.47 0.57 0.4  0.23 0.21\n",
      " 0.23 0.21 0.25 0.23 0.26 0.22 0.38 0.2  0.25 0.24 0.2  0.17 0.17 0.25\n",
      " 0.18 0.22 0.17 0.29 0.16 0.22 0.26 0.21 0.2  0.28 0.21 0.21 0.42 0.22\n",
      " 0.24 0.31 0.31 0.27 0.34 0.29 0.32 0.26 0.26 0.26 0.29 0.25 0.21 0.51\n",
      " 0.21 0.4  0.25 0.2  0.4  0.32 0.23 0.56 0.27 0.36 0.31 0.52 0.33 0.29\n",
      " 0.44 0.46 0.23 0.2  0.25 0.37 0.32 0.26 0.29 0.28 0.2  0.24 0.19 0.24\n",
      " 0.32 0.29 0.35 0.55 0.4  0.37 0.33 0.35 0.5  0.28 0.38 0.35 0.29 0.38\n",
      " 0.46 0.34 0.49 0.38 0.42 0.38 0.43 0.42]\n",
      "0.5951333333333334\n"
     ]
    }
   ],
   "source": [
    "print(distribution)\n",
    "print np.average(distribution)"
   ]
  },
  {
   "cell_type": "code",
   "execution_count": 18,
   "metadata": {
    "scrolled": true
   },
   "outputs": [
    {
     "data": {
      "image/png": "[encoded data removed]",
      "text/plain": [
       "<Figure size 432x288 with 1 Axes>"
      ]
     },
     "metadata": {},
     "output_type": "display_data"
    }
   ],
   "source": [
    "%matplotlib inline\n",
    "import seaborn as sns\n",
    "import matplotlib.pyplot as plt\n",
    "sns.distplot(distribution);"
   ]
  },
  {
   "cell_type": "code",
   "execution_count": 59,
   "metadata": {},
   "outputs": [
    {
     "data": {
      "text/plain": [
       "Text(0,0.5,'Frequency')"
      ]
     },
     "execution_count": 59,
     "metadata": {},
     "output_type": "execute_result"
    },
    {
     "data": {
      "image/png": "[encoded data removed]",
      "text/plain": [
       "<Figure size 432x288 with 1 Axes>"
      ]
     },
     "metadata": {},
     "output_type": "display_data"
    }
   ],
   "source": [
    "dftotal = df.groupby(['embeddedness']).size()\n",
    "ax = dftotal.plot(style='k.:',title='Embeddedness distribution')\n",
    "ax.set_ylabel('Frequency')"
   ]
  },
  {
   "cell_type": "code",
   "execution_count": 60,
   "metadata": {
    "scrolled": true
   },
   "outputs": [
    {
     "data": {
      "text/plain": [
       "Text(0,0.5,'Frequency')"
      ]
     },
     "execution_count": 60,
     "metadata": {},
     "output_type": "execute_result"
    },
    {
     "data": {
      "image/png": "[encoded data removed]",
      "text/plain": [
       "<Figure size 432x288 with 1 Axes>"
      ]
     },
     "metadata": {},
     "output_type": "display_data"
    }
   ],
   "source": [
    "ax = dftotal.plot(style='k.:',title='Embeddedness distribution', logy=True)\n",
    "ax.set_ylabel('Frequency')"
   ]
  }
 ],
 "metadata": {
  "kernelspec": {
   "display_name": "Python 2",
   "language": "python",
   "name": "python2"
  },
  "language_info": {
   "codemirror_mode": {
    "name": "ipython",
    "version": 2
   },
   "file_extension": ".py",
   "mimetype": "text/x-python",
   "name": "python",
   "nbconvert_exporter": "python",
   "pygments_lexer": "ipython2",
   "version": "2.7.15"
  }
 },
 "nbformat": 4,
 "nbformat_minor": 2
}
